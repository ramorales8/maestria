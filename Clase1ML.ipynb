{
 "cells": [
  {
   "cell_type": "markdown",
   "metadata": {},
   "source": [
    "#Clase1 ML"
   ]
  },
  {
   "cell_type": "code",
   "execution_count": 40,
   "metadata": {},
   "outputs": [
    {
     "name": "stdout",
     "output_type": "stream",
     "text": [
      "Python: 3.6.8 |Anaconda, Inc.| (default, Dec 29 2018, 19:04:46) \n",
      "[GCC 4.2.1 Compatible Clang 4.0.1 (tags/RELEASE_401/final)]\n",
      "sklearn: 0.19.1\n",
      "scipy: 1.1.0\n",
      "numpy: 1.14.3\n",
      "matplotlib: 2.2.2\n",
      "pandas: 0.23.0\n",
      "sklearn: 0.19.1\n"
     ]
    }
   ],
   "source": [
    "#@title\n",
    "\n",
    "# Python version\n",
    "import sys\n",
    "print('Python: {}'.format(sys.version))\n",
    "\n",
    "import sklearn\n",
    "print('sklearn: {}'.format(sklearn.__version__))\n",
    "# scipy\n",
    "import scipy\n",
    "print('scipy: {}'.format(scipy.__version__))\n",
    "# numpy\n",
    "import numpy\n",
    "print('numpy: {}'.format(numpy.__version__))\n",
    "# matplotlib\n",
    "import matplotlib\n",
    "print('matplotlib: {}'.format(matplotlib.__version__))\n",
    "# pandas\n",
    "import pandas\n",
    "print('pandas: {}'.format(pandas.__version__))\n",
    "# scikit-learn\n",
    "import sklearn\n",
    "print('sklearn: {}'.format(sklearn.__version__))"
   ]
  },
  {
   "cell_type": "code",
   "execution_count": 41,
   "metadata": {},
   "outputs": [
    {
     "data": {
      "text/plain": [
       "156"
      ]
     },
     "execution_count": 41,
     "metadata": {},
     "output_type": "execute_result"
    }
   ],
   "source": [
    "#1numbers\n",
    "3/2\n",
    "3/float(2)\n",
    "3%2\n",
    "3.00//2.00\n",
    "2**3\n",
    "4**0.5\n",
    "import math\n",
    "math.sqrt(4)\n",
    "2 + 10 * 10 + 3\n",
    "(2+10) * (10+3)"
   ]
  },
  {
   "cell_type": "code",
   "execution_count": 42,
   "metadata": {},
   "outputs": [],
   "source": [
    "#2Variables\n",
    "a = 10\n",
    "a =a + 10\n",
    "a += 10\n",
    "b = c = a\n",
    "a,b,c = 1,2,\"john\"\n",
    "my_dogs = 2\n",
    "my_dogs = ['Sammy', 'Frankie']\n",
    "del my_dogs"
   ]
  },
  {
   "cell_type": "code",
   "execution_count": 43,
   "metadata": {},
   "outputs": [
    {
     "name": "stdout",
     "output_type": "stream",
     "text": [
      "Hello World!\n",
      "H\n",
      "llo\n",
      "llo World!\n",
      "Hello World!Hello World!\n",
      "Hello World!TEST\n",
      " Hello World! ,  I'm Carlos\n",
      "I wrote 3.75 programs today.\n",
      "I wrote 3 programs today.\n",
      "I wrote  3.75 programs today.\n",
      "First: hi!, Second:  3.14, Third: 'bye!'\n",
      "The quick brown fox\n",
      "First Object: 1, Second Object: Two, Third Object: 12.3\n",
      "Fruit    | Quantity \n",
      "Apples   |       3.0\n",
      "Oranges  |        10\n"
     ]
    }
   ],
   "source": [
    "#3string\n",
    "str = 'Hello World!'\n",
    "print (str)          \n",
    "print (str[0])       \n",
    "print (str[2:5])     \n",
    "print (str[2:])      \n",
    "print (str * 2)      \n",
    "print (str + \"TEST\")\n",
    "str.upper()\n",
    "str.split()\n",
    "'Carlos: {}'.format(str)\n",
    "print(\" %s ,  %s\" %(str,\"I'm Carlos\"))\n",
    "\n",
    "print('I wrote %s programs today.' %3.75)\n",
    "print('I wrote %d programs today.' %3.75)\n",
    "print('I wrote %5.2f programs today.' %3.75)\n",
    "print('First: %s, Second: %5.2f, Third: %r' %('hi!',3.1415,'bye!'))\n",
    "print('The {2} {1} {0}'.format('fox','brown','quick'))\n",
    "print('First Object: {a}, Second Object: {b}, Third Object: {c}'.format(a=1,b='Two',c=12.3))\n",
    "\n",
    "print('{0:8} | {1:9}'.format('Fruit', 'Quantity'))\n",
    "print('{0:8} | {1:9}'.format('Apples', 3.))\n",
    "print('{0:8} | {1:9}'.format('Oranges', 10))"
   ]
  },
  {
   "cell_type": "code",
   "execution_count": 44,
   "metadata": {},
   "outputs": [
    {
     "name": "stdout",
     "output_type": "stream",
     "text": [
      "50\n",
      "[[8, 2, 3], [4, 5, 6], [7, 8, 9]]\n"
     ]
    }
   ],
   "source": [
    "#4Array list \n",
    "my_list = [1,2,3]\n",
    "my_list = ['A string',23,100.232,'o']\n",
    "my_list + ['new item']\n",
    "my_list = my_list +['new item']\n",
    "my_list.pop(0)\n",
    "my_list.reverse()\n",
    "my_list = [1,2,3]  #modifico para evitar error por tipo de variable\n",
    "my_list.sort()\n",
    "my_list * 2\n",
    "my_list=[]\n",
    "#my_list=array()\n",
    "\n",
    "num_list = range(1, 101)\n",
    "print(num_list[49])\n",
    "type(num_list)\n",
    "len(num_list)\n",
    "\n",
    "new_list = [0, 1, 2, 3, 4, 5, 6]\n",
    "new_list[2] = 2001;\n",
    "new_list[2:5]\n",
    "new_list[:3]\n",
    "new_list[-2:]\n",
    "\n",
    "list_1 = [1,2]\n",
    "list_2 = [3, 4]\n",
    "list_1+list_2\n",
    "list_1.append(list_2)\n",
    "[num*2 for num in list_1]\n",
    "\n",
    "lst_1=[1,2,3]\n",
    "lst_2=[4,5,6]\n",
    "lst_3=[7,8,9]\n",
    "matrix = [lst_1,lst_2,lst_3]\n",
    "matrix[0][0]=8\n",
    "print(matrix)\n",
    "\n"
   ]
  },
  {
   "cell_type": "code",
   "execution_count": 45,
   "metadata": {},
   "outputs": [
    {
     "name": "stdout",
     "output_type": "stream",
     "text": [
      "Manni\n",
      "{}\n",
      "VA\n"
     ]
    },
    {
     "ename": "TypeError",
     "evalue": "'str' object is not callable",
     "output_type": "error",
     "traceback": [
      "\u001b[0;31m---------------------------------------------------------------------------\u001b[0m",
      "\u001b[0;31mTypeError\u001b[0m                                 Traceback (most recent call last)",
      "\u001b[0;32m<ipython-input-45-52a4fd32aa69>\u001b[0m in \u001b[0;36m<module>\u001b[0;34m()\u001b[0m\n\u001b[1;32m     22\u001b[0m \u001b[0;34m\u001b[0m\u001b[0m\n\u001b[1;32m     23\u001b[0m \u001b[0;32mfrom\u001b[0m \u001b[0mnumpy\u001b[0m \u001b[0;32mimport\u001b[0m \u001b[0mrandom\u001b[0m\u001b[0;34m\u001b[0m\u001b[0;34m\u001b[0m\u001b[0m\n\u001b[0;32m---> 24\u001b[0;31m \u001b[0mdata\u001b[0m \u001b[0;34m=\u001b[0m \u001b[0;34m{\u001b[0m\u001b[0;34m'a'\u001b[0m\u001b[0;34m+\u001b[0m\u001b[0mstr\u001b[0m\u001b[0;34m(\u001b[0m\u001b[0mi\u001b[0m\u001b[0;34m)\u001b[0m \u001b[0;34m:\u001b[0m \u001b[0mrandom\u001b[0m\u001b[0;34m.\u001b[0m\u001b[0mrandn\u001b[0m\u001b[0;34m(\u001b[0m\u001b[0;34m)\u001b[0m \u001b[0;32mfor\u001b[0m \u001b[0mi\u001b[0m \u001b[0;32min\u001b[0m \u001b[0mrange\u001b[0m\u001b[0;34m(\u001b[0m\u001b[0;36m7\u001b[0m\u001b[0;34m)\u001b[0m\u001b[0;34m}\u001b[0m\u001b[0;34m\u001b[0m\u001b[0;34m\u001b[0m\u001b[0m\n\u001b[0m\u001b[1;32m     25\u001b[0m \u001b[0mprint\u001b[0m\u001b[0;34m(\u001b[0m\u001b[0mdata\u001b[0m\u001b[0;34m[\u001b[0m\u001b[0;34m'a1'\u001b[0m\u001b[0;34m]\u001b[0m\u001b[0;34m)\u001b[0m\u001b[0;34m\u001b[0m\u001b[0;34m\u001b[0m\u001b[0m\n\u001b[1;32m     26\u001b[0m \u001b[0mdata\u001b[0m\u001b[0;34m\u001b[0m\u001b[0;34m\u001b[0m\u001b[0m\n",
      "\u001b[0;32m<ipython-input-45-52a4fd32aa69>\u001b[0m in \u001b[0;36m<dictcomp>\u001b[0;34m(.0)\u001b[0m\n\u001b[1;32m     22\u001b[0m \u001b[0;34m\u001b[0m\u001b[0m\n\u001b[1;32m     23\u001b[0m \u001b[0;32mfrom\u001b[0m \u001b[0mnumpy\u001b[0m \u001b[0;32mimport\u001b[0m \u001b[0mrandom\u001b[0m\u001b[0;34m\u001b[0m\u001b[0;34m\u001b[0m\u001b[0m\n\u001b[0;32m---> 24\u001b[0;31m \u001b[0mdata\u001b[0m \u001b[0;34m=\u001b[0m \u001b[0;34m{\u001b[0m\u001b[0;34m'a'\u001b[0m\u001b[0;34m+\u001b[0m\u001b[0mstr\u001b[0m\u001b[0;34m(\u001b[0m\u001b[0mi\u001b[0m\u001b[0;34m)\u001b[0m \u001b[0;34m:\u001b[0m \u001b[0mrandom\u001b[0m\u001b[0;34m.\u001b[0m\u001b[0mrandn\u001b[0m\u001b[0;34m(\u001b[0m\u001b[0;34m)\u001b[0m \u001b[0;32mfor\u001b[0m \u001b[0mi\u001b[0m \u001b[0;32min\u001b[0m \u001b[0mrange\u001b[0m\u001b[0;34m(\u001b[0m\u001b[0;36m7\u001b[0m\u001b[0;34m)\u001b[0m\u001b[0;34m}\u001b[0m\u001b[0;34m\u001b[0m\u001b[0;34m\u001b[0m\u001b[0m\n\u001b[0m\u001b[1;32m     25\u001b[0m \u001b[0mprint\u001b[0m\u001b[0;34m(\u001b[0m\u001b[0mdata\u001b[0m\u001b[0;34m[\u001b[0m\u001b[0;34m'a1'\u001b[0m\u001b[0;34m]\u001b[0m\u001b[0;34m)\u001b[0m\u001b[0;34m\u001b[0m\u001b[0;34m\u001b[0m\u001b[0m\n\u001b[1;32m     26\u001b[0m \u001b[0mdata\u001b[0m\u001b[0;34m\u001b[0m\u001b[0;34m\u001b[0m\u001b[0m\n",
      "\u001b[0;31mTypeError\u001b[0m: 'str' object is not callable"
     ]
    }
   ],
   "source": [
    "#4Dictionary\n",
    "\n",
    "\n",
    "dict = {'Name': 'Zara', 'Age': 7, 'Name': 'Manni'}\n",
    "print(dict['Name'])\n",
    "dict.update()\n",
    "\n",
    "d = {'a':10, 'b':20, 'c':30}\n",
    "d['a']\n",
    "d['b']=40\n",
    "d.clear()\n",
    "dict = {'Name': 'Zara', 'Age': 7, 'Name': 'Manni'}\n",
    "dict.values()\n",
    "dict.keys()\n",
    "dict.items()\n",
    "print(d)\n",
    "\n",
    "\n",
    "\n",
    "locations = {'Sinan': ['Baltimore', 'MD'], 'Brandon': ['Arlington', 'VA']}\n",
    "print(locations['Brandon'][1])\n",
    "\n",
    "from numpy import random\n",
    "data = {'a'+str(i) : random.randn() for i in range(7)}\n",
    "print(data['a1'])\n",
    "data\n"
   ]
  },
  {
   "cell_type": "code",
   "execution_count": 46,
   "metadata": {},
   "outputs": [
    {
     "name": "stdout",
     "output_type": "stream",
     "text": [
      "5\n"
     ]
    }
   ],
   "source": [
    "#5Functions\n",
    "def calc(a, b):\n",
    "    return a + b\n",
    "print(calc(2,3))\n"
   ]
  },
  {
   "cell_type": "code",
   "execution_count": 50,
   "metadata": {},
   "outputs": [
    {
     "name": "stdout",
     "output_type": "stream",
     "text": [
      "[0 1 2 3 4 5 6 7 8 9]\n",
      "<class 'numpy.ndarray'>\n",
      "1\n",
      "(10,)\n",
      "10\n",
      "int64\n",
      "8\n",
      "<memory at 0xa1267d348>\n",
      "[7 8 9]\n",
      "3\n",
      "[2 5 8]\n",
      "[5 6 7 8 9]\n",
      "[[0. 0. 0. 0.]\n",
      " [1. 1. 1. 1.]\n",
      " [2. 2. 2. 2.]\n",
      " [3. 3. 3. 3.]\n",
      " [4. 4. 4. 4.]\n",
      " [5. 5. 5. 5.]\n",
      " [6. 6. 6. 6.]\n",
      " [7. 7. 7. 7.]]\n",
      "[[4. 4. 4. 4.]\n",
      " [3. 3. 3. 3.]\n",
      " [0. 0. 0. 0.]\n",
      " [6. 6. 6. 6.]]\n",
      "[[5. 5. 5. 5.]\n",
      " [3. 3. 3. 3.]\n",
      " [1. 1. 1. 1.]]\n",
      "[[ 0  1  2  3]\n",
      " [ 4  5  6  7]\n",
      " [ 8  9 10 11]\n",
      " [12 13 14 15]\n",
      " [16 17 18 19]\n",
      " [20 21 22 23]\n",
      " [24 25 26 27]\n",
      " [28 29 30 31]]\n"
     ]
    }
   ],
   "source": [
    "import numpy as np\n",
    "# tipo de datos\n",
    "arr1 = np.array([1, 2, 3], dtype=np.float64)\n",
    "arr2 = np.array([1, 2, 3], dtype=np.int32)\n",
    "#funciones basicas\n",
    "miArray = np.arange(10) # Creamos un array de 0 a 9 separados de uno en uno\n",
    "print (miArray) # Presentamos en pantalla el array creado\n",
    "print (type(miArray))   #Comprobamos que es un ndarray\n",
    "print (miArray.ndim )   # Consultamos el número de dimensiones\n",
    "print (miArray.shape )  # Consultamos la dimensión\n",
    "print (miArray.size )  # Consultamos la dimensión\n",
    "print (miArray.dtype )  # Consultamos el tipo de elementos del array\n",
    "print (miArray.itemsize )  # tamaño en bytes\n",
    "print (miArray.data )  # Consultamos el buffer de memoria.\n",
    "\n",
    "# array bidimensionales\n",
    "arr2d = np.array([[1, 2, 3], [4, 5, 6], [7, 8, 9]])\n",
    "\n",
    "print(arr2d[2])\n",
    "print(arr2d[0][2])\n",
    "#arr2d[0,2]\n",
    "\n",
    "#grupo de elementos\n",
    "print((arr2d[:,1]))\n",
    "\n",
    "# acesso con operaciones\n",
    "print(arr2d[arr2d>4])\n",
    "\n",
    "#fancy indexing\n",
    "arr = np.empty((8, 4))\n",
    "for i in range(8):\n",
    "    arr[i] = i\n",
    "print(arr)\n",
    "\n",
    "#seleccionar columnas en desorden\n",
    "print (arr[[4, 3, 0, 6]])\n",
    "#Using negative indices select rows from the end\n",
    "print(arr[[-3, -5, -7]])\n",
    "\n",
    "#reorganizar vectores\n",
    "arr = np.arange(32).reshape((8, 4))\n",
    "print(arr)"
   ]
  },
  {
   "cell_type": "code",
   "execution_count": null,
   "metadata": {},
   "outputs": [],
   "source": []
  }
 ],
 "metadata": {
  "kernelspec": {
   "display_name": "Python 3",
   "language": "python",
   "name": "python3"
  },
  "language_info": {
   "codemirror_mode": {
    "name": "ipython",
    "version": 3
   },
   "file_extension": ".py",
   "mimetype": "text/x-python",
   "name": "python",
   "nbconvert_exporter": "python",
   "pygments_lexer": "ipython3",
   "version": "3.6.8"
  }
 },
 "nbformat": 4,
 "nbformat_minor": 2
}
