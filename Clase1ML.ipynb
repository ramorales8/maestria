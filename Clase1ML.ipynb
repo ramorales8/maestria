{
 "cells": [
  {
   "cell_type": "markdown",
   "metadata": {},
   "source": [
    "#Clase1 ML"
   ]
  },
  {
   "cell_type": "code",
   "execution_count": null,
   "metadata": {},
   "outputs": [],
   "source": [
    "#@title\n",
    "\n",
    "# Python version\n",
    "import sys\n",
    "print('Python: {}'.format(sys.version))\n",
    "\n",
    "import sklearn\n",
    "print('sklearn: {}'.format(sklearn.__version__))\n",
    "# scipy\n",
    "import scipy\n",
    "print('scipy: {}'.format(scipy.__version__))\n",
    "# numpy\n",
    "import numpy\n",
    "print('numpy: {}'.format(numpy.__version__))\n",
    "# matplotlib\n",
    "import matplotlib\n",
    "print('matplotlib: {}'.format(matplotlib.__version__))\n",
    "# pandas\n",
    "import pandas\n",
    "print('pandas: {}'.format(pandas.__version__))\n",
    "# scikit-learn\n",
    "import sklearn\n",
    "print('sklearn: {}'.format(sklearn.__version__))"
   ]
  },
  {
   "cell_type": "code",
   "execution_count": null,
   "metadata": {},
   "outputs": [],
   "source": [
    "#1numbers\n",
    "3/2\n",
    "3/float(2)\n",
    "3%2\n",
    "3.00//2.00\n",
    "2**3\n",
    "4**0.5\n",
    "import math\n",
    "math.sqrt(4)\n",
    "2 + 10 * 10 + 3\n",
    "(2+10) * (10+3)"
   ]
  },
  {
   "cell_type": "code",
   "execution_count": null,
   "metadata": {},
   "outputs": [],
   "source": [
    "#2Variables\n",
    "a = 10\n",
    "a =a + 10\n",
    "a += 10\n",
    "b = c = a\n",
    "a,b,c = 1,2,\"john\"\n",
    "my_dogs = 2\n",
    "my_dogs = ['Sammy', 'Frankie']\n",
    "del my_dogs"
   ]
  },
  {
   "cell_type": "code",
   "execution_count": null,
   "metadata": {},
   "outputs": [],
   "source": [
    "#3string\n",
    "str = 'Hello World!'\n",
    "print (str)          \n",
    "print (str[0])       \n",
    "print (str[2:5])     \n",
    "print (str[2:])      \n",
    "print (str * 2)      \n",
    "print (str + \"TEST\")\n",
    "str.upper()\n",
    "str.split()\n",
    "'Carlos: {}'.format(str)\n",
    "print(\" %s ,  %s\" %(str,\"I'm Carlos\"))\n",
    "\n",
    "print('I wrote %s programs today.' %3.75)\n",
    "print('I wrote %d programs today.' %3.75)\n",
    "print('I wrote %5.2f programs today.' %3.75)\n",
    "print('First: %s, Second: %5.2f, Third: %r' %('hi!',3.1415,'bye!'))\n",
    "print('The {2} {1} {0}'.format('fox','brown','quick'))\n",
    "print('First Object: {a}, Second Object: {b}, Third Object: {c}'.format(a=1,b='Two',c=12.3))\n",
    "\n",
    "print('{0:8} | {1:9}'.format('Fruit', 'Quantity'))\n",
    "print('{0:8} | {1:9}'.format('Apples', 3.))\n",
    "print('{0:8} | {1:9}'.format('Oranges', 10))"
   ]
  },
  {
   "cell_type": "code",
   "execution_count": null,
   "metadata": {},
   "outputs": [],
   "source": [
    "#4Array list \n",
    "my_list = [1,2,3]\n",
    "my_list = ['A string',23,100.232,'o']\n",
    "my_list + ['new item']\n",
    "my_list = my_list +['new item']\n",
    "my_list.pop(0)\n",
    "my_list.reverse()\n",
    "my_list = [1,2,3]  #modifico para evitar error por tipo de variable\n",
    "my_list.sort()\n",
    "my_list * 2\n",
    "my_list=[]\n",
    "#my_list=array()\n",
    "\n",
    "num_list = range(1, 101)\n",
    "print(num_list[49])\n",
    "type(num_list)\n",
    "len(num_list)\n",
    "\n",
    "new_list = [0, 1, 2, 3, 4, 5, 6]\n",
    "new_list[2] = 2001;\n",
    "new_list[2:5]\n",
    "new_list[:3]\n",
    "new_list[-2:]\n",
    "\n",
    "list_1 = [1,2]\n",
    "list_2 = [3, 4]\n",
    "list_1+list_2\n",
    "list_1.append(list_2)\n",
    "[num*2 for num in list_1]\n",
    "\n",
    "lst_1=[1,2,3]\n",
    "lst_2=[4,5,6]\n",
    "lst_3=[7,8,9]\n",
    "matrix = [lst_1,lst_2,lst_3]\n",
    "matrix[0][0]=8\n",
    "print(matrix)\n",
    "\n"
   ]
  },
  {
   "cell_type": "code",
   "execution_count": null,
   "metadata": {},
   "outputs": [],
   "source": [
    "#4Dictionary\n",
    "\n",
    "\n",
    "dict = {'Name': 'Zara', 'Age': 7, 'Name': 'Manni'}\n",
    "print(dict['Name'])\n",
    "dict.update()\n",
    "\n",
    "d = {'a':10, 'b':20, 'c':30}\n",
    "d['a']\n",
    "d['b']=40\n",
    "d.clear()\n",
    "dict = {'Name': 'Zara', 'Age': 7, 'Name': 'Manni'}\n",
    "dict.values()\n",
    "dict.keys()\n",
    "dict.items()\n",
    "print(d)\n",
    "\n",
    "\n",
    "\n",
    "locations = {'Sinan': ['Baltimore', 'MD'], 'Brandon': ['Arlington', 'VA']}\n",
    "print(locations['Brandon'][1])\n",
    "\n",
    "from numpy import random\n",
    "data = {'a'+str(i) : random.randn() for i in range(7)}\n",
    "print(data['a1'])\n",
    "data\n"
   ]
  },
  {
   "cell_type": "code",
   "execution_count": null,
   "metadata": {},
   "outputs": [],
   "source": [
    "#5Functions\n",
    "def calc(a, b):\n",
    "    return a + b\n",
    "print(calc(2,3))\n"
   ]
  },
  {
   "cell_type": "code",
   "execution_count": null,
   "metadata": {},
   "outputs": [],
   "source": []
  }
 ],
 "metadata": {
  "kernelspec": {
   "display_name": "Python 3",
   "language": "python",
   "name": "python3"
  },
  "language_info": {
   "codemirror_mode": {
    "name": "ipython",
    "version": 3
   },
   "file_extension": ".py",
   "mimetype": "text/x-python",
   "name": "python",
   "nbconvert_exporter": "python",
   "pygments_lexer": "ipython3",
   "version": "3.6.8"
  }
 },
 "nbformat": 4,
 "nbformat_minor": 2
}
